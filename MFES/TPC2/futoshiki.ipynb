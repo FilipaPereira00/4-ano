{
  "nbformat": 4,
  "nbformat_minor": 0,
  "metadata": {
    "colab": {
      "name": "futoshiki.ipynb",
      "provenance": [],
      "collapsed_sections": []
    },
    "kernelspec": {
      "name": "python3",
      "display_name": "Python 3"
    },
    "language_info": {
      "name": "python"
    }
  },
  "cells": [
    {
      "cell_type": "markdown",
      "metadata": {
        "id": "_cOrdAR5H7C9"
      },
      "source": [
        "## **TPC2 - Exercício 1**\n",
        "\n",
        "**Ana Filipa Rodrigues Pereira (PG46978) MEI**\n",
        "\n",
        "--------------------"
      ]
    },
    {
      "cell_type": "markdown",
      "metadata": {
        "id": "ewoZHB-7IKOZ"
      },
      "source": [
        "Para resolver este problema, foi necessário, em primeiro lugar, definir qual seria o formato do ficheiro de texto que serviria como *input*.\n",
        "Ficou decidido o seguinte:\n",
        "\n",
        "* Na primeira linha do ficheiro estará o tamanho do tabuleiro (N)\n",
        "* Na segunda linha do ficheiro estará a quantidade de valores pré-definidos a colocar no tabuleiro (N1)\n",
        "* Na terceira linha do ficheiro estará a quantidade de restrições de desigualdade a colocar no tabuleiro (N2)\n",
        "* As N1 linhas seguintes serão a especificação dos valores a colocar e as suas posições no tabuleiro\n",
        "* As N2 linhas seguintes serão a especificação das restrições de desigualdade bem como entre que posições estas se aplicam.\n",
        "\n",
        "\n",
        "Imagine-se que um ficheiro input continha a informação abaixo descrita:\n",
        "\n",
        "4\n",
        "\n",
        "2\n",
        "\n",
        "4\n",
        "\n",
        "3 1 4\n",
        "\n",
        "3 4 2\n",
        "\n",
        "1 1 2 1 >\n",
        "\n",
        "3 2 3 3 <\n",
        "\n",
        "4 2 4 3 <\n",
        "\n",
        "3 4 4 4 <\n",
        "\n",
        "\n",
        "Isto significaria que:\n",
        "\n",
        "* O tabuleiro tem tamanho 4x4\n",
        "* Serão colocados 2 valores no tabuleiro\n",
        "* Haverá quatro restrições de desigualdade\n",
        "* Na linha 1 e coluna 3 será colocado o valor 2\n",
        "* Na linha 3 e coluna 4 será colocado o valor 1\n",
        "* O valor que está na linha 1 e coluna 1 terá de ser superior (>) ao valor que está na linha 2 e coluna 1\n",
        "* O valor que está na linha 3 e coluna 2 terá de ser inferior (<) ao valor que está na linha 3 e coluna 3\n",
        "* O valor que está na linha 4 e coluna 2 terá de ser inferior (<) ao valor que está na linha 4 e coluna 3\n",
        "* O valor que está na linha 3 e coluna 4 terá de ser inferior (<) ao valor que está na linha 4 e coluna 4\n",
        "\n",
        "\n",
        "Visualmente, o tabuleiro correspondente será:\n",
        "\n",
        "![image.png](data:image/png;base64,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)\n",
        "\n",
        "\n"
      ]
    },
    {
      "cell_type": "markdown",
      "metadata": {
        "id": "8Y6dsGyXLEIe"
      },
      "source": [
        "Sabendo isto,podemos passar para a resolução em Python.\n",
        "\n",
        "---"
      ]
    },
    {
      "cell_type": "markdown",
      "metadata": {
        "id": "pfRLUHkhLLGz"
      },
      "source": [
        "Começamos por instalar o Z3."
      ]
    },
    {
      "cell_type": "code",
      "metadata": {
        "id": "VNJPX7laLNiJ",
        "colab": {
          "base_uri": "https://localhost:8080/"
        },
        "outputId": "b0ac9432-72a2-4066-f20b-0fa389af9d87"
      },
      "source": [
        "!pip install z3-solver"
      ],
      "execution_count": 2,
      "outputs": [
        {
          "output_type": "stream",
          "name": "stdout",
          "text": [
            "Collecting z3-solver\n",
            "  Downloading z3_solver-4.8.12.0-py2.py3-none-manylinux1_x86_64.whl (33.0 MB)\n",
            "\u001b[K     |████████████████████████████████| 33.0 MB 18 kB/s \n",
            "\u001b[?25hInstalling collected packages: z3-solver\n",
            "Successfully installed z3-solver-4.8.12.0\n"
          ]
        }
      ]
    },
    {
      "cell_type": "markdown",
      "metadata": {
        "id": "NnVZPhOYLQzw"
      },
      "source": [
        "É necessário importar o módulo do Z3. O módulo numpy é também importado (explicarei mais à frente porquê)"
      ]
    },
    {
      "cell_type": "code",
      "metadata": {
        "id": "SDV-qkdvLQ_2"
      },
      "source": [
        "from z3 import *\n",
        "import numpy as np"
      ],
      "execution_count": 3,
      "outputs": []
    },
    {
      "cell_type": "markdown",
      "metadata": {
        "id": "Fb3fppSMpRq_"
      },
      "source": [
        "Agora criamos um ficheiro de texto chamado 'tabuleiroF.txt' que irá conter a informação de um dado puzzle futoshiki. Este ficheiro é o mesmo que foi anteriormente usado para exemplo. Realça-se que apenas executo o bloco de código abaixo uma vez que não é possivel submeter um ficheiro de texto junto com o pdf. Assim, cria-se e preenche-se um ficheiro em python para que seja possível executar o código desenvolvido noutra máquina."
      ]
    },
    {
      "cell_type": "code",
      "metadata": {
        "id": "dX-cORUmnoI3"
      },
      "source": [
        "f = open(\"tabuleiroF.txt\", \"w\")\n",
        "f.write(\"4\\r\\n\")\n",
        "f.write(\"2\\r\\n\")\n",
        "f.write(\"4\\r\\n\")\n",
        "f.write(\"3 1 4\\r\\n\")\n",
        "f.write(\"3 4 2\\r\\n\")\n",
        "f.write(\"1 1 2 1 >\\r\\n\")\n",
        "f.write(\"3 2 3 3 <\\r\\n\")\n",
        "f.write(\"4 2 4 3 <\\r\\n\")\n",
        "f.write(\"3 4 4 4 <\\r\\n\")\n",
        "f.close()"
      ],
      "execution_count": 4,
      "outputs": []
    },
    {
      "cell_type": "markdown",
      "metadata": {
        "id": "63ZIsPWlLxwv"
      },
      "source": [
        "Agora iremos abrir o ficheiro para leitura. Nome do ficheiro a abrir é definido na variável *file_name*. Neste caso coloco o nome 'tabuleiro.txt' o qual contém informação para um possível tabuleiro"
      ]
    },
    {
      "cell_type": "code",
      "metadata": {
        "id": "5L8Nc0pbLyZN"
      },
      "source": [
        "file_name = \"tabuleiroF.txt\"\n",
        "f = open(file_name, \"r\")\n",
        "lines = f.readlines()"
      ],
      "execution_count": 11,
      "outputs": []
    },
    {
      "cell_type": "markdown",
      "metadata": {
        "id": "j89EBEfkL6hj"
      },
      "source": [
        "Inicia-se o solver"
      ]
    },
    {
      "cell_type": "code",
      "metadata": {
        "id": "1ZgVgPG5L6tu"
      },
      "source": [
        "sol = Solver()"
      ],
      "execution_count": 6,
      "outputs": []
    },
    {
      "cell_type": "markdown",
      "metadata": {
        "id": "dzb7kR37L9Mz"
      },
      "source": [
        "*lines* é um array cujos elementos são as linhas do ficheiro. Primeiramente, será preciso converter as 3 primeiras linhas do ficheiro para o inteiro"
      ]
    },
    {
      "cell_type": "code",
      "metadata": {
        "id": "0Xd3wKnqL9Vz"
      },
      "source": [
        "size = int(lines[0])\n",
        "n1 = int(lines[1])\n",
        "n2 = int(lines[2])"
      ],
      "execution_count": 7,
      "outputs": []
    },
    {
      "cell_type": "markdown",
      "metadata": {
        "id": "3iCQuIzCMCTn"
      },
      "source": [
        "No pedaço de código abaixo, o raciocínio é o seguinte:\n",
        "\n",
        "Primeiro ,com o if mais exterior,verifica-se se o tamanho do tabuleiro, a quantidades de restrições e a quantidade de valores a acrescentar são válidos. Caso sejam, entramos no ciclo. Se não forem, o programa termina, enviando uma mensagem de erro.É de realçar que um tabuleiro só pode ter um tamanho superior a zero, mas não é obrigatório que tenha restrições de desigualdade ou valores pré-definidos.\n",
        "\n",
        "Caso estes valores sejam válidos, entra-se no if. Aqui dentro, vai ser preciso uma família de variáveis xij, pelo que foi criada uma matriz X para o efeito.\n",
        "\n",
        "Posto isto, foram definidas e adicionadas ao solver 3 restrições essenciais:\n",
        "\n",
        "impedir que as linhas tenham dígitos repetidos -> para qualquer i entre 1 e size, a linha X[ i ] tem de ser toda diferente (Distinct)\n",
        "impedir que as colunas tenham dígitos repetidos -> para qualquer i entre 1 e size e para um j fixo, as várias posições X[ i ][ j ] tem de ser todas diferentes (Distinct)\n",
        "garantir que no tabuleiro só haja valores entre 1 e size (tamanho do tabuleiro). -> X[ i ][ j ]<=size e X[ i ][ j ]>=1\n",
        "Após isto verifica-se se n1 > 0, ou seja, se é necessário adicionar valores ao puzzle. Caso isto aconteça, recorre-se à função auxiliar check_range para verificar se os valores lido do ficheiro input são válido.Se não forem, o programa acaba sendo emitida uma mensagem de erro. Por outro lado, caso haja número a adicionar, será preciso ler as n1 linhas que contém a informação necessária, recorrendo-se a um ciclo for. Para cada valor que queiramos adicionar ao tabuleiro numa dada posição será preciso definir uma restrição para isso. Basta apenas garantir que X[ i ][ j ] == valor. É de realçar que o ciclo for possui como intervalo range(3,n1+3) uma vez que 3 e n1+3 são as linhas do input onde estão os números a colocar no tabuleiro e em que posições.\n",
        "\n",
        "De seguida, temos outra condição: n2>0, ou seja, se existem restrições de desigualdade a acrescentar.Caso haja, recorre-se à função auxiliar check_range para verificar se os dados das linhas do input são válidas.Se não forem, o programa acaba sendo emitida uma mensagem de erro.Por outro lado, caso haja restrições de desigualdade a adicionar,será preciso ler n2 linhas do input com a informação necessária,recorrendo-se a um ciclo for. Por cada linha lida é necessário verificar se a desigualdade presente é válida, sendo que apenas pode ser < ou >. Caso não seja nenhuma destas, o programa termina e é emitada uma mensagem de erro. Se a desigualdade for válida, basta adicionar a restrição correspondente ao solver. É de realçar que o ciclo for possui como intervalo range(3+n1,3+n1+n2) uma vez que entre 3+n1 e 3+n1+n2 são as linhas do input onde estão as restrições de desigualde a colocar no tabuleiro e entre que posições.Ora, sejam i,i,i1 e j1 posições do tabuleiro lidas do input.Se a a desigualdade for '<' então a restrição a adicionar ao solver será X[ i ][ j ] < X[ i1 ][ j1 ]. Se a desigualdade for '>' então X[ i ][ j ] > X[ i1 ][ j1 ]. Se a restrição colocada no input não for nenhuma das referidas,então o programa termina e será emitida uma mensagem de erro. É de realçar que as posições entre as quais queremos estabelecer relações de desigualdade têm de ser estar na mesma linha ou na mesma coluna e não podem ser iguais. Desta froma, recorre-se à função auxiliar check_positions que verifica isto. Caso as posições nãos sejam válidas o programa termina e será emitida uma mensagem de erro."
      ]
    },
    {
      "cell_type": "code",
      "metadata": {
        "id": "GwtwELGeMCcz"
      },
      "source": [
        "#função auxiliar\n",
        "def check_range(i,size):\n",
        "    if (i<size or i>=0):\n",
        "        return True\n",
        "    \n",
        "#função auxiliar\n",
        "def check_positions(i,j,i1,j1):\n",
        "    if (i==i1 and j== j1): \n",
        "        return False\n",
        "    elif (i==i1 or j==j1):\n",
        "        return True\n",
        "    else:\n",
        "        return False\n",
        "\n",
        "\n",
        "if (size > 0 and n1 >= 0 and n2 >= 0):\n",
        "\n",
        "    # inicializar matriz de variáveis que representa o puzzle\n",
        "    X = [ [Int(\"x_%s_%s\" % (i+1,j+1)) for j in range(size)] for i in range(size)]\n",
        "\n",
        "\n",
        "    # Restrição que impede que uma linha tenha digitos repetidos\n",
        "    sol.add([ Distinct(X[i]) for i in range(size)])\n",
        "\n",
        "    # Restrição que impede que uma coluna tenha digitos repetidos\n",
        "    sol.add([Distinct([X[i][j] for i in range(size) ]) for j in range(size)])\n",
        "\n",
        "    # Restrição que garante que apenas valores entre 1 e size são colocados no puzzle\n",
        "    sol.add( [ And(X[i][j] >= 1, X[i][j] <= size) for j in range(size) for i in range(size)])\n",
        "\n",
        "\n",
        "    if (n1>0):\n",
        "        for i in range(3,n1+3):\n",
        "            text = [int(n) for n in lines[i].split()]\n",
        "            if (check_range(text[0],size) and check_range(text[1],size) and check_range(text[2],size)):\n",
        "                sol.add(X[text[0]-1][text[1]-1] == text[2])\n",
        "            else:\n",
        "                print(\"Restrições inválidas!\")\n",
        "                exit()\n",
        "\n",
        "\n",
        "    if (n2>0):\n",
        "        for i in range(3+n1,3+n1+n2):\n",
        "            text = lines[i].split()\n",
        "            t0 = int(text[0])\n",
        "            t1 = int(text[1])\n",
        "            t2 = int(text[2])\n",
        "            t3 = int(text[3])\n",
        "            if (check_range(t0,size) and check_range(t1,size) and check_range(t2,size) and check_range(t3,size)):\n",
        "                if(check_positions(t0,t1,t2,t3)):\n",
        "                    if(text[4] == \">\"):\n",
        "                        sol.add(X[t0-1][t1-1] > X[t2-1][t3-1])\n",
        "                    elif (text[4] == \"<\"):\n",
        "                        sol.add(X[t0-1][t1-1] < X[t2-1][t3-1])\n",
        "                    else:\n",
        "                        print(\"Desigualdade inválida!\")\n",
        "                        exit()\n",
        "                else:\n",
        "                    print(\"As desigualdades devem ser entre posições adjacentes e não pode ser a mesma posição!\")\n",
        "                    exit()\n",
        "\n",
        "            else:\n",
        "                print(\"Restrições inválidas!\")\n",
        "                exit()\n",
        "    \n",
        "else:\n",
        "    print(\"Dados inválidos!!\")\n",
        "    exit()"
      ],
      "execution_count": 8,
      "outputs": []
    },
    {
      "cell_type": "markdown",
      "metadata": {
        "id": "DtpTeeiRMPGd"
      },
      "source": [
        "Tendo sido estabelecidas todas as restrições precisas, é verificado se existe uma solução, ou seja se o problema é satisfazível. Se for, então é colocado na variável m o modelo da solução e na variável r a matriz já com as variáveis substituidas pelos respetivos valores da solução. Por último, é imprimida a solução final. Se o problema não for satisfazivel é emitida uma mensagem a informar o utilizador.\n",
        "´É de realçar que use importou o numpy para que o resultado aparecesse com formato de matriz e não como uma lista de listas."
      ]
    },
    {
      "cell_type": "code",
      "metadata": {
        "id": "kIULWz8mMQKU",
        "colab": {
          "base_uri": "https://localhost:8080/"
        },
        "outputId": "0f417e7a-2710-4488-d35e-a8ae104e5ff3"
      },
      "source": [
        "if sol.check() == sat:\n",
        "    m = sol.model()\n",
        "    r = [ [ m.evaluate(X[i][j]) for j in range(size) ]\n",
        "        for i in range(size) ]\n",
        "\n",
        "    print(np.array(r))\n",
        "else:\n",
        "    print (\"Não foi encontrada uma solução...\")"
      ],
      "execution_count": 9,
      "outputs": [
        {
          "output_type": "stream",
          "name": "stdout",
          "text": [
            "[[3 4 2 1]\n",
            " [2 3 1 4]\n",
            " [4 1 3 2]\n",
            " [1 2 4 3]]\n"
          ]
        }
      ]
    },
    {
      "cell_type": "markdown",
      "metadata": {
        "id": "l_uLzTKJMbqk"
      },
      "source": [
        "Se considerarmos o ficheiro inicialmente apresentado como exemplo, obtemos como solução o seguinte tabuleiro:\n",
        "\n",
        "$$\\begin{bmatrix} 3 & 4 & 2 & 1 \\\\ 2 & 3 & 1 & 4 \\\\ 4 & 1 & 3 & 2 \\\\ 1 & 2 & 4 & 3 \\end{bmatrix}$$"
      ]
    }
  ]
}