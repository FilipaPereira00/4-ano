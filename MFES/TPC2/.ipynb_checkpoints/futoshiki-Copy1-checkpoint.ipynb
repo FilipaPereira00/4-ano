{
 "cells": [
  {
   "cell_type": "markdown",
   "id": "a16798ee",
   "metadata": {},
   "source": [
    "## **TPC2 - Exercício 1**\n",
    "\n",
    "**Ana Filipa Rodrigues Pereira (PG46978) MEI**\n",
    "\n",
    "---\n",
    "\n",
    "Para resolver este problema, foi necessário, em primeiro lugar, definir qual seria o formato do ficheiro de texto que serviria como *input*.\n",
    "Ficou decidido o seguinte:\n",
    "\n",
    "* Na primeira linha do ficheiro estará o tamanho do tabuleiro (N)\n",
    "* Na segunda linha do ficheiro estará a quantidade de valores pré-definidos a colocar no tabuleiro (N1)\n",
    "* Na terceira linha do ficheiro estará a quantidade de restrições de desigualdade a colocar no tabuleiro (N2)\n",
    "* As N1 linhas seguintes serão a especificação dos valores a colocar e as suas posições no tabuleiro\n",
    "* As N2 linhas seguintes serão a especificação das restrições de desigualdade bem como entre que posições estas se aplicam.\n",
    "\n",
    "Imagine-se que um ficheiro input continha a informação abaixo descrita:\n",
    "\n",
    "\n",
    "\n",
    "  4 \n",
    "  \n",
    "  2  \n",
    "  \n",
    "  1  \n",
    "  \n",
    "  1 3 2  \n",
    "  \n",
    "  3 4 1  \n",
    "  \n",
    "  1 2 2 1 <  \n",
    "\n",
    "\n",
    "Isto significaria que:\n",
    "\n",
    "* O tabuleiro tem tamanho 4x4\n",
    "* Serão colocados 2 valores no tabuleiro\n",
    "* Haverá uma restrição de desigualdade\n",
    "* Na linha 1 e coluna 3 será colocado o valor 2\n",
    "* Na linha 3 e coluna 4 será colocado o valor 1\n",
    "* O valor que está na linha 1 e coluna 2 terá de ser inferior (<) ao valor que está na linha 2 e coluna 1\n",
    "\n",
    "\n",
    "\n",
    "Sabendo isto,podemos passar para a resolução em Python."
   ]
  }
 ],
 "metadata": {
  "kernelspec": {
   "display_name": "Python 3",
   "language": "python",
   "name": "python3"
  },
  "language_info": {
   "codemirror_mode": {
    "name": "ipython",
    "version": 3
   },
   "file_extension": ".py",
   "mimetype": "text/x-python",
   "name": "python",
   "nbconvert_exporter": "python",
   "pygments_lexer": "ipython3",
   "version": "3.8.8"
  }
 },
 "nbformat": 4,
 "nbformat_minor": 5
}
