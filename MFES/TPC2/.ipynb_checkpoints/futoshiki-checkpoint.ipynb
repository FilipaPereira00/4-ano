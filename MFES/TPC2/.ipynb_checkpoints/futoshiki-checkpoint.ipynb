{
 "cells": [
  {
   "cell_type": "markdown",
   "id": "a16798ee",
   "metadata": {},
   "source": [
    "## **TPC2 - Exercício 1**\n",
    "\n",
    "**Ana Filipa Rodrigues Pereira (PG46978) MEI**\n",
    "\n",
    "---\n",
    "\n",
    "Para resolver este problema, foi necessário, em primeiro lugar, definir qual seria o formato do ficheiro de texto que serviria como *input*.\n",
    "Ficou decidido o seguinte:\n",
    "\n",
    "* Na primeira linha do ficheiro estará o tamanho do tabuleiro (N)\n",
    "* Na segunda linha do ficheiro estará a quantidade de valores pré-definidos a colocar no tabuleiro (N1)\n",
    "* Na terceira linha do ficheiro estará a quantidade de restrições de desigualdade a colocar no tabuleiro (N2)\n",
    "* As N1 linhas seguintes serão a especificação dos valores a colocar e as suas posições no tabuleiro\n",
    "* As N2 linhas seguintes serão a especificação das restrições de desigualdade bem como entre que posições estas se aplicam.\n",
    "\n",
    "Imagine-se que um ficheiro input continha a informação abaixo descrita:\n",
    "\n",
    "\n",
    "\n",
    "  4 \n",
    "  \n",
    "  2  \n",
    "  \n",
    "  1  \n",
    "  \n",
    "  1 3 2  \n",
    "  \n",
    "  3 4 1  \n",
    "  \n",
    "  1 2 2 1 <  \n",
    "\n",
    "\n",
    "Isto significaria que:\n",
    "\n",
    "* O tabuleiro tem tamanho 4x4\n",
    "* Serão colocados 2 valores no tabuleiro\n",
    "* Haverá uma restrição de desigualdade\n",
    "* Na linha 1 e coluna 3 será colocado o valor 2\n",
    "* Na linha 3 e coluna 4 será colocado o valor 1\n",
    "* O valor que está na linha 1 e coluna 2 terá de ser inferior (<) ao valor que está na linha 2 e coluna 1\n",
    "\n",
    "\n",
    "\n",
    "Sabendo isto,podemos passar para a resolução em Python.\n",
    "\n",
    "---"
   ]
  },
  {
   "cell_type": "markdown",
   "id": "5d4ea923",
   "metadata": {},
   "source": [
    "Começamos por instalar o Z3. "
   ]
  },
  {
   "cell_type": "code",
   "execution_count": 1,
   "id": "c6e3e405",
   "metadata": {},
   "outputs": [
    {
     "name": "stdout",
     "output_type": "stream",
     "text": [
      "Requirement already satisfied: z3-solver in c:\\users\\filipa pereira\\anaconda3\\lib\\site-packages (4.8.12.0)\n"
     ]
    }
   ],
   "source": [
    "!pip install z3-solver"
   ]
  },
  {
   "cell_type": "markdown",
   "id": "4b868f27",
   "metadata": {},
   "source": [
    "É necessário importar o módulo do Z3.\n",
    "O módulo numpy é também importado (explicarei mais à frente porquê)"
   ]
  },
  {
   "cell_type": "code",
   "execution_count": 2,
   "id": "1cafee7d",
   "metadata": {},
   "outputs": [],
   "source": [
    "from z3 import *\n",
    "import numpy as np"
   ]
  },
  {
   "cell_type": "markdown",
   "id": "01d3491c",
   "metadata": {},
   "source": [
    "Agora iremos abrir o ficheiro para leitura. Nome do ficheiro a abrir é definido na variável file_name. Neste caso coloco o nome 'tabuleiro.txt' o qual contém informação para um possível tabuleiro"
   ]
  },
  {
   "cell_type": "code",
   "execution_count": 3,
   "id": "4fd58258",
   "metadata": {},
   "outputs": [],
   "source": [
    "file_name = \"tabuleiro.txt\"\n",
    "f = open(file_name, \"r\")\n",
    "lines = f.readlines()"
   ]
  },
  {
   "cell_type": "markdown",
   "id": "560b60b2",
   "metadata": {},
   "source": [
    "Inicia-se o solver"
   ]
  },
  {
   "cell_type": "code",
   "execution_count": 4,
   "id": "23a70501",
   "metadata": {},
   "outputs": [],
   "source": [
    "sol = Solver()"
   ]
  },
  {
   "cell_type": "markdown",
   "id": "b9dc47ac",
   "metadata": {},
   "source": [
    "\n",
    "*lines* é um array cujos elementos são as linhas do ficheiro.\n",
    "Primeiramente, será preciso converter as 3 primeiras linhas do ficheiro para o inteiro"
   ]
  },
  {
   "cell_type": "code",
   "execution_count": 5,
   "id": "d92669d1",
   "metadata": {},
   "outputs": [],
   "source": [
    "size = int(lines[0])\n",
    "n1 = int(lines[1])\n",
    "n2 = int(lines[2])"
   ]
  },
  {
   "cell_type": "markdown",
   "id": "ceec961d",
   "metadata": {},
   "source": [
    "\n"
   ]
  },
  {
   "cell_type": "markdown",
   "id": "58988fd6",
   "metadata": {},
   "source": [
    "No pedaço de código abaixo, o raciocínio é o seguinte:\n",
    "    \n",
    "Primeiro ,com o if mais exterior,verifica-se se o tamanho do tabuleiro, a quantidades de restrições \n",
    "e a quantidade de valores a acrescentar são válidos. Caso sejam, entramos no ciclo. Se não forem, o programa termina, enviando uma mensagem de erro.É de realçar que um tabuleiro só pode ter um tamanho superior a zero, mas não é obrigatório que tenha restrições de desigualdade ou valores pré-definidos.\n",
    "    \n",
    "Caso estes valores sejam válidos, entra-se no if. Aqui dentro, vai ser preciso uma família de variáveis xij, pelo que\n",
    "foi criada uma matriz X para o efeito.\n",
    "    \n",
    "Posto isto, foram definidas e adicionadas ao solver 3 restrições essenciais: \n",
    "\n",
    "* impedir que as linhas tenham dígitos repetidos -> para qualquer i entre 1 e size, a linha X[ i ] tem de ser toda diferente (Distinct)\n",
    "* impedir que as colunas tenham dígitos repetidos -> para qualquer i entre 1 e size e para um j fixo, as várias posições \n",
    "X[ i ][ j ] tem de ser todas diferentes (Distinct)\n",
    "* garantir que no tabuleiro só haja valores entre 1 e *size* (tamanho do tabuleiro). -> X[ i ][ j ]<=size e X[ i ][ j ]>=1\n",
    "\n",
    "Após isto verifica-se se  n1 > 0, ou seja, se é necessário adicionar valores ao puzzle. Caso isto aconteça, recorre-se à função auxiliar *check_range* para verificar se os valores lido do ficheiro input são válido.Se não forem, o programa acaba sendo emitida uma mensagem de erro. Por outro lado, caso haja número a adicionar, será preciso ler as n1 linhas que contém a informação necessária, recorrendo-se a um ciclo *for*. Para cada valor que queiramos adicionar ao tabuleiro numa dada posição será preciso definir uma restrição para isso. Basta apenas garantir que X[ i ][ j ] == valor. É de realçar que o ciclo for possui como intervalo range(3,n1+3) uma vez que 3 e n1+3 são as linhas do input onde estão os números a colocar no tabuleiro e em que posições.\n",
    "\n",
    "De seguida, temos outra condição: n2>0, ou seja, se existem restrições de desigualdade a acrescentar.Caso haja, recorre-se à função auxiliar check_range para verificar se os dados das linhas do input são válidas.Se não forem, o programa acaba sendo emitida uma mensagem de erro.Por outro lado, caso haja restrições de desigualdade a adicionar,será preciso ler n2 linhas do input com a informação necessária,recorrendo-se a um ciclo *for*. Por cada linha lida é necessário verificar se a desigualdade presente é válida, sendo que apenas pode ser < ou >. Caso não seja nenhuma destas, o programa termina e é emitada uma mensagem de erro. Se a desigualdade for válida, basta adicionar a restrição correspondente ao *solver*.\n",
    "É de realçar que o ciclo *for* possui como intervalo range(3+n1,3+n1+n2) uma vez que entre 3+n1 e 3+n1+n2 são as linhas do input onde estão as restrições de desigualde a colocar no tabuleiro e entre que posições.Ora, sejam i,i,i1 e j1 posições do tabuleiro lidas do input.Se a a desigualdade for '<' então a restrição a adicionar ao solver será X[ i ][ j ] < X[ i1 ][ j1 ].\n",
    "Se a desigualdade for '>' então X[ i ][ j ] > X[ i1 ][ j1 ]. Se a restrição colocada no input não for nenhuma das referidas,então o programa termina e será emitida uma mensagem de erro. É de realçar que as posições entre as quais queremos estabelecer relações de desigualdade têm de ser estar na mesma linha ou na mesma coluna e não podem ser iguais. Desta froma, recorre-se à função auxiliar check_positions que verifica isto. Caso as posições nãos sejam válidas o programa termina e será emitida uma mensagem de erro. \n",
    "\n",
    "\n"
   ]
  },
  {
   "cell_type": "code",
   "execution_count": 9,
   "id": "373854ed",
   "metadata": {},
   "outputs": [],
   "source": [
    "#função auxiliar\n",
    "def check_range(i,size):\n",
    "    if (i<size or i>=0):\n",
    "        return True\n",
    "    \n",
    "#função auxiliar\n",
    "def check_positions(i,j,i1,j1):\n",
    "    if (i==i1 and j== j1): \n",
    "        return False\n",
    "    elif (i==i1 or j==j1):\n",
    "        return True\n",
    "    else:\n",
    "        return False\n",
    "\n",
    "\n",
    "if (size > 0 and n1 >= 0 and n2 >= 0):\n",
    "\n",
    "    # inicializar matriz de variáveis que representa o puzzle\n",
    "    X = [ [Int(\"x_%s_%s\" % (i+1,j+1)) for j in range(size)] for i in range(size)]\n",
    "\n",
    "\n",
    "    # Restrição que impede que uma linha tenha digitos repetidos\n",
    "    sol.add([ Distinct(X[i]) for i in range(size)])\n",
    "\n",
    "    # Restrição que impede que uma coluna tenha digitos repetidos\n",
    "    sol.add([Distinct([X[i][j] for i in range(size) ]) for j in range(size)])\n",
    "\n",
    "    # Restrição que garante que apenas valores entre 1 e size são colocados no puzzle\n",
    "    sol.add( [ And(X[i][j] >= 1, X[i][j] <= size) for j in range(size) for i in range(size)])\n",
    "\n",
    "\n",
    "    if (n1>0):\n",
    "        for i in range(3,n1+3):\n",
    "            text = [int(n) for n in lines[i].split()]\n",
    "            if (check_range(text[0],size) and check_range(text[1],size) and check_range(text[2],size)):\n",
    "                sol.add(X[text[0]-1][text[1]-1] == text[2])\n",
    "            else:\n",
    "                print(\"Restrições inválidas!\")\n",
    "                exit()\n",
    "\n",
    "\n",
    "    if (n2>0):\n",
    "        for i in range(3+n1,3+n1+n2):\n",
    "            text = lines[i].split()\n",
    "            t0 = int(text[0])\n",
    "            t1 = int(text[1])\n",
    "            t2 = int(text[2])\n",
    "            t3 = int(text[3])\n",
    "            if (check_range(t0,size) and check_range(t1,size) and check_range(t2,size) and check_range(t3,size)):\n",
    "                if(check_positions(t0,t1,t2,t3)):\n",
    "                    if(text[4] == \">\"):\n",
    "                        sol.add(X[t0-1][t1-1] > X[t2-1][t3-1])\n",
    "                    elif (text[4] == \"<\"):\n",
    "                        sol.add(X[t0-1][t1-1] < X[t2-1][t3-1])\n",
    "                    else:\n",
    "                        print(\"Desigualdade inválida!\")\n",
    "                        exit()\n",
    "                else:\n",
    "                    print(\"As desigualdades devem ser entre posições adjacentes e não pode ser a mesma posição!\")\n",
    "                    exit()\n",
    "\n",
    "            else:\n",
    "                print(\"Restrições inválidas!\")\n",
    "                exit()\n",
    "    \n",
    "else:\n",
    "    print(\"Dados inválidos!!\")\n",
    "    exit()"
   ]
  },
  {
   "cell_type": "markdown",
   "id": "d0400ee4",
   "metadata": {},
   "source": [
    "Tendo sido estabelecidas todas as restrições precisas, é verificado se existe uma solução, ou seja se o problema é satisfazível. Se for, então é colocado na variável *m* o modelo da solução e na variável r a matriz já com as variáveis substituidas pelos respetivos valores da solução. Por último, é imprimida a solução final.\n",
    "Se o problema não for satisfazivel é emitida uma mensagem a informar o utilizador."
   ]
  },
  {
   "cell_type": "code",
   "execution_count": 10,
   "id": "3213fc36",
   "metadata": {},
   "outputs": [
    {
     "name": "stdout",
     "output_type": "stream",
     "text": [
      "[[3 4 2 1]\n",
      " [2 3 1 4]\n",
      " [4 1 3 2]\n",
      " [1 2 4 3]]\n"
     ]
    }
   ],
   "source": [
    "if sol.check() == sat:\n",
    "    m = sol.model()\n",
    "    r = [ [ m.evaluate(X[i][j]) for j in range(size) ]\n",
    "        for i in range(size) ]\n",
    "\n",
    "    print(np.array(r))\n",
    "else:\n",
    "    print (\"Não foi encontrada uma solução...\")"
   ]
  }
 ],
 "metadata": {
  "kernelspec": {
   "display_name": "Python 3",
   "language": "python",
   "name": "python3"
  },
  "language_info": {
   "codemirror_mode": {
    "name": "ipython",
    "version": 3
   },
   "file_extension": ".py",
   "mimetype": "text/x-python",
   "name": "python",
   "nbconvert_exporter": "python",
   "pygments_lexer": "ipython3",
   "version": "3.8.8"
  }
 },
 "nbformat": 4,
 "nbformat_minor": 5
}
